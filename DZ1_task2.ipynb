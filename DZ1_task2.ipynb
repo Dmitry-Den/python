{
 "cells": [
  {
   "cell_type": "markdown",
   "metadata": {},
   "source": [
    "Подключено к Python 3.10.11"
   ]
  },
  {
   "cell_type": "code",
   "execution_count": null,
   "metadata": {},
   "outputs": [
    {
     "name": "stdout",
     "output_type": "stream",
     "text": [
      "Треугольник с такими сторонами не существует\n"
     ]
    }
   ],
   "source": [
    "def check_triangle(a, b, c):\n",
    "    if a + b > c and a + c > b and b + c > a:\n",
    "        print(\"Треугольник существует\")\n",
    "        \n",
    "        if a != b and a != c and b != c:\n",
    "            print(\"Треугольник разносторонний\")\n",
    "        elif a == b == c:\n",
    "            print(\"Треугольник равносторонний\")\n",
    "        else:\n",
    "            print(\"Треугольник равнобедренный\")\n",
    "    else:\n",
    "        print(\"Треугольник с такими сторонами не существует\")\n",
    "\n",
    "# Ввод сторон треугольника\n",
    "a = float(input(\"Введите длину стороны a: \"))\n",
    "b = float(input(\"Введите длину стороны b: \"))\n",
    "c = float(input(\"Введите длину стороны c: \"))\n",
    "\n",
    "check_triangle(a, b, c)"
   ]
  }
 ],
 "metadata": {
  "language_info": {
   "codemirror_mode": {
    "name": "ipython",
    "version": 3
   },
   "file_extension": ".py",
   "mimetype": "text/x-python",
   "name": "python",
   "nbconvert_exporter": "python",
   "pygments_lexer": "ipython3",
   "version": 3
  }
 },
 "nbformat": 4,
 "nbformat_minor": 2
}
